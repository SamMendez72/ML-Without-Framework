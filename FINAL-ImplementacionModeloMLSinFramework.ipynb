{
 "cells": [
  {
   "cell_type": "code",
   "execution_count": null,
   "id": "474dc471",
   "metadata": {},
   "outputs": [],
   "source": [
    "'''\n",
    "Samuel Méndez Villegas - A01652277\n",
    "\n",
    "En este archivo se presenta la implementación de un modelo de machine learning, siendo el seleccionado un árbol de decisión. \n",
    "El código es implementado desde 0, y está inspirado en el código desarrollado por Ander Fernández Jauregui. \n",
    "\n",
    "La base de datos que se utiliza, se llama `500_Person_Gender_Height_Weight_Index.csv` y registros de personas como su peso, estatura, género\n",
    " y si cuentan con obesidad. Por lo tanto el objetivo del modelo será predecir con 3 variables independientes si una persona tiene obesidad.\n",
    " \n",
    "'''"
   ]
  },
  {
   "cell_type": "code",
   "execution_count": 1,
   "id": "1c396724",
   "metadata": {},
   "outputs": [],
   "source": [
    "## Estas son las únicas librerías que utilizaremos, las cuales nos permiten realizar operaciones con arrays y \n",
    "## y en data frames.\n",
    "import pandas as pd\n",
    "import numpy as np\n",
    "import itertools # Se utiliza para realizar algunas operaciones de combinaciones"
   ]
  },
  {
   "cell_type": "code",
   "execution_count": 2,
   "id": "a2af9e07",
   "metadata": {},
   "outputs": [
    {
     "data": {
      "text/html": [
       "<div>\n",
       "<style scoped>\n",
       "    .dataframe tbody tr th:only-of-type {\n",
       "        vertical-align: middle;\n",
       "    }\n",
       "\n",
       "    .dataframe tbody tr th {\n",
       "        vertical-align: top;\n",
       "    }\n",
       "\n",
       "    .dataframe thead th {\n",
       "        text-align: right;\n",
       "    }\n",
       "</style>\n",
       "<table border=\"1\" class=\"dataframe\">\n",
       "  <thead>\n",
       "    <tr style=\"text-align: right;\">\n",
       "      <th></th>\n",
       "      <th>Gender</th>\n",
       "      <th>Height</th>\n",
       "      <th>Weight</th>\n",
       "      <th>Index</th>\n",
       "    </tr>\n",
       "  </thead>\n",
       "  <tbody>\n",
       "    <tr>\n",
       "      <th>0</th>\n",
       "      <td>Male</td>\n",
       "      <td>174</td>\n",
       "      <td>96</td>\n",
       "      <td>4</td>\n",
       "    </tr>\n",
       "    <tr>\n",
       "      <th>1</th>\n",
       "      <td>Male</td>\n",
       "      <td>189</td>\n",
       "      <td>87</td>\n",
       "      <td>2</td>\n",
       "    </tr>\n",
       "    <tr>\n",
       "      <th>2</th>\n",
       "      <td>Female</td>\n",
       "      <td>185</td>\n",
       "      <td>110</td>\n",
       "      <td>4</td>\n",
       "    </tr>\n",
       "    <tr>\n",
       "      <th>3</th>\n",
       "      <td>Female</td>\n",
       "      <td>195</td>\n",
       "      <td>104</td>\n",
       "      <td>3</td>\n",
       "    </tr>\n",
       "    <tr>\n",
       "      <th>4</th>\n",
       "      <td>Male</td>\n",
       "      <td>149</td>\n",
       "      <td>61</td>\n",
       "      <td>3</td>\n",
       "    </tr>\n",
       "  </tbody>\n",
       "</table>\n",
       "</div>"
      ],
      "text/plain": [
       "   Gender  Height  Weight  Index\n",
       "0    Male     174      96      4\n",
       "1    Male     189      87      2\n",
       "2  Female     185     110      4\n",
       "3  Female     195     104      3\n",
       "4    Male     149      61      3"
      ]
     },
     "execution_count": 2,
     "metadata": {},
     "output_type": "execute_result"
    }
   ],
   "source": [
    "df = pd.read_csv('500_Person_Gender_Height_Weight_Index.csv')\n",
    "df.head()"
   ]
  },
  {
   "cell_type": "code",
   "execution_count": 3,
   "id": "f481970d",
   "metadata": {},
   "outputs": [],
   "source": [
    "df['Obese'] = (df.Index >= 4).astype('int').astype('str')\n",
    "df.drop('Index', axis = 1, inplace = True)"
   ]
  },
  {
   "cell_type": "code",
   "execution_count": 4,
   "id": "1f410692",
   "metadata": {},
   "outputs": [],
   "source": [
    "## Se obtiene la entropia de un conjunto de datos\n",
    "def entropia(y):\n",
    "    p = y.value_counts()/y.shape[0] # almacena el valor de p y 1-p\n",
    "    entropy = np.sum(-p*np.log2(p)) # aplica la operacion para p y 1-p\n",
    "    return entropy"
   ]
  },
  {
   "cell_type": "code",
   "execution_count": 5,
   "id": "44a1f90e",
   "metadata": {},
   "outputs": [],
   "source": [
    "## Se obtiene la información de ganancia a partir de la entropía de un conjunto de datos\n",
    "def gananciaInformacion(y, filtro):\n",
    "    p = sum(filtro)\n",
    "    q = filtro.shape[0] - p\n",
    "    ganancia_info = entropia(y) - p/(p+q)*entropia(y[filtro]) - q/(p+q)*entropia(y[-filtro])\n",
    "    return ganancia_info"
   ]
  },
  {
   "cell_type": "code",
   "execution_count": 6,
   "id": "3b84e00e",
   "metadata": {},
   "outputs": [],
   "source": [
    "# Se obtienen todas las combinaciones posibles de una variable para evaluar la ganancia de cada combinación y\n",
    "## de esta fomra decidir el corte\n",
    "def combinacionesPosibles(x):\n",
    "    combinaciones = []\n",
    "    \n",
    "    x = x.unique()\n",
    "    \n",
    "    for i in range(0, len(x) + 1):\n",
    "        for j in itertools.combinations(x,i):\n",
    "            j = list(j)\n",
    "            combinaciones.append(j)\n",
    "            \n",
    "    return combinaciones[1:-1]"
   ]
  },
  {
   "cell_type": "code",
   "execution_count": 7,
   "id": "b2a428b8",
   "metadata": {},
   "outputs": [],
   "source": [
    "## Se calcula el mejor corte del árbol dado una variable predictora, y la variable objetivo\n",
    "def evaluacionCorte(x, y):\n",
    "    valores_corte = []\n",
    "    ganancias = []\n",
    "    \n",
    "    ## Evalúa si la variable es numérica\n",
    "    if (x.dtypes != 'O'):\n",
    "        combinaciones = x.sort_values().unique()[1:]\n",
    "        numerica = True\n",
    "    \n",
    "    ## Si la variable no es numérica, entonces es categórica\n",
    "    else:\n",
    "        combinaciones = combinacionesPosibles(x)\n",
    "        numerica = False\n",
    "    \n",
    "    ## Se calcula la ganancia de información para cada valor de la variable\n",
    "    for opcion in combinaciones:\n",
    "        if (numerica == True):\n",
    "            filtro = x < opcion\n",
    "        else:\n",
    "            filtro = x.isin(opcion)\n",
    "            \n",
    "        ## Se obtiene la ganancia de información con el filtro correspondiente\n",
    "        ganancia_opcion = gananciaInformacion(y, filtro)\n",
    "        ganancias.append(ganancia_opcion)\n",
    "        valores_corte.append(opcion)\n",
    "        \n",
    "      # Check if there are more than 1 results if not, return False\n",
    "    if len(ganancias) == 0:\n",
    "        return(None,None,None, False)\n",
    "        \n",
    "    ## Se obtiene la ganancia de información más alta\n",
    "    mejor_ganancia = max(ganancias)\n",
    "    mejor_ganancia_index = ganancias.index(mejor_ganancia)\n",
    "    mejor_corte = valores_corte[mejor_ganancia_index]\n",
    "    \n",
    "    return (mejor_ganancia, mejor_corte, numerica, True)"
   ]
  },
  {
   "cell_type": "code",
   "execution_count": 8,
   "id": "fcb25a45",
   "metadata": {},
   "outputs": [
    {
     "name": "stdout",
     "output_type": "stream",
     "text": [
      "El mejor split para Weight es cuando la variable es inferior a  103 \n",
      "El Information Gain para ese corte es: 0.3824541370911897\n"
     ]
    }
   ],
   "source": [
    "weight_ig, weight_slpit, _,_ = evaluacionCorte(df['Weight'], df['Obese'])  \n",
    "\n",
    "\n",
    "print(\n",
    "  \"El mejor split para Weight es cuando la variable es inferior a \",\n",
    "  weight_slpit,\"\\nEl Information Gain para ese corte es:\", weight_ig\n",
    ")"
   ]
  },
  {
   "cell_type": "code",
   "execution_count": 9,
   "id": "d0db031b",
   "metadata": {},
   "outputs": [],
   "source": [
    "def mejorCorte(y, df):\n",
    "    filtros = df.drop(y, axis = 1).apply(evaluacionCorte, y = df[y])\n",
    "    \n",
    "    ## Se obtienen solamente los filtros que pueden dividir el set\n",
    "    filtros = filtros.loc[:,filtros.loc[3,:]]\n",
    "    \n",
    "    ## Se obtienen los resultado\n",
    "    variable_corte = max(filtros)\n",
    "    valor_corte = filtros[variable_corte][1]\n",
    "    ganancia_corte = filtros[variable_corte][0]\n",
    "    corte_numerico = filtros[variable_corte][2]\n",
    "    \n",
    "    return (variable_corte, valor_corte, ganancia_corte, corte_numerico)"
   ]
  },
  {
   "cell_type": "code",
   "execution_count": 10,
   "id": "7cf85ae1",
   "metadata": {},
   "outputs": [],
   "source": [
    "def realizarCorte(x, valor, df, es_numerico):\n",
    "    if es_numerico:\n",
    "        df_1 = df[df[x] < valor]\n",
    "        df_2 = df[(df[x] < valor) == False]\n",
    "    else:\n",
    "        df_1 = df[df[x].isin(valor)]\n",
    "        df_2 = df[(df[x].isin(valor)) == False]\n",
    "    return df_1, df_2"
   ]
  },
  {
   "cell_type": "code",
   "execution_count": 11,
   "id": "500b3007",
   "metadata": {},
   "outputs": [],
   "source": [
    "def hacerPrediccion(df, target_factor):\n",
    "    if target_factor:\n",
    "        prediccion = df.value_counts().idxmax()\n",
    "    else:\n",
    "        prediccion = df.mean()\n",
    "    return prediccion"
   ]
  },
  {
   "cell_type": "code",
   "execution_count": 12,
   "id": "1bf9edc1",
   "metadata": {},
   "outputs": [],
   "source": [
    "def entrenamiento(df, y, target_factor, max_depth = None,min_information_gain = 1e-20, counter = 0):\n",
    "    \n",
    "    #if (.dtypes != 'O'):\n",
    "     #   target_factor = True\n",
    "    #else:\n",
    "     #   target_factor = False\n",
    "\n",
    "    if max_depth == None:\n",
    "        depth_cond = True\n",
    "    else:\n",
    "        if counter < max_depth:\n",
    "            depth_cond = True\n",
    "        else:\n",
    "            depth_cond = False\n",
    "        \n",
    "    if depth_cond:\n",
    "        var, val, ig, var_type = mejorCorte(y, df)\n",
    "        \n",
    "        if ig is not None and ig >= min_information_gain:\n",
    "            counter += 1\n",
    "            izquierda, derecha = realizarCorte(var, val, df, var_type)\n",
    "            \n",
    "            tipo_corte = '<=' if target_factor else 'in'\n",
    "            pregunta = \"{} {} {}\".format(var, tipo_corte, val)\n",
    "            subtree = {pregunta: []}\n",
    "            \n",
    "            si = entrenamiento(izquierda, y, target_factor, max_depth, min_information_gain, counter)\n",
    "            no = entrenamiento(derecha, y, target_factor, max_depth, min_information_gain, counter)\n",
    "            \n",
    "            if si == no:\n",
    "                subtree = si\n",
    "            else:\n",
    "                subtree[pregunta].append(si)\n",
    "                subtree[pregunta].append(no)\n",
    "            \n",
    "        else:\n",
    "            pred = hacerPrediccion(df[y], target_factor)\n",
    "            return pred\n",
    "        \n",
    "    else:\n",
    "        pred = hacerPrediccion(df[y], target_factor)\n",
    "        return pred\n",
    "    \n",
    "    return subtree"
   ]
  },
  {
   "cell_type": "code",
   "execution_count": 13,
   "id": "925a99ee",
   "metadata": {},
   "outputs": [
    {
     "data": {
      "text/plain": [
       "{'Weight <= 103': [{'Weight <= 66': ['0',\n",
       "    {'Weight <= 84': [{'Weight <= 74': ['0', {'Weight <= 75': ['1', '0']}]},\n",
       "      {'Weight <= 98': ['1', '0']}]}]},\n",
       "  '1']}"
      ]
     },
     "execution_count": 13,
     "metadata": {},
     "output_type": "execute_result"
    }
   ],
   "source": [
    "max_depth = 5\n",
    "min_information_gain  = 1e-5\n",
    "\n",
    "decisiones = entrenamiento(df,'Obese', True, max_depth,min_information_gain)\n",
    "decisiones"
   ]
  },
  {
   "cell_type": "code",
   "execution_count": 14,
   "id": "f7ce09a7",
   "metadata": {},
   "outputs": [],
   "source": [
    "def calsificacionDatos(observacion, arbol):\n",
    "    pregunta = list(arbol.keys())[0]\n",
    "    \n",
    "    if pregunta.split()[1] == '<=':\n",
    "        if observacion[pregunta.split()[0]] <= float(pregunta.split()[2]):\n",
    "            respuesta = arbol[pregunta][0]\n",
    "        else:\n",
    "            respuesta = arbol[pregunta[1]]\n",
    "    else:\n",
    "        if observacion[pregunta.split()[0]] in (pregunta.split()[2]):\n",
    "            respuesta = arbol[pregunta][0]\n",
    "        else:\n",
    "            respuesta = arbol[pregunta][1]\n",
    "\n",
    "    if not isinstance(respuesta, dict):\n",
    "        return respuesta\n",
    "    else:\n",
    "        residual_tree = respuesta\n",
    "        return clasificarDatos(observacion, respuesta)"
   ]
  }
 ],
 "metadata": {
  "kernelspec": {
   "display_name": "Python 3",
   "language": "python",
   "name": "python3"
  },
  "language_info": {
   "codemirror_mode": {
    "name": "ipython",
    "version": 3
   },
   "file_extension": ".py",
   "mimetype": "text/x-python",
   "name": "python",
   "nbconvert_exporter": "python",
   "pygments_lexer": "ipython3",
   "version": "3.8.8"
  }
 },
 "nbformat": 4,
 "nbformat_minor": 5
}
